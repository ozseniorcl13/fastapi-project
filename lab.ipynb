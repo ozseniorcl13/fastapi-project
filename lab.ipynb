{
 "cells": [
  {
   "cell_type": "code",
   "execution_count": 52,
   "metadata": {},
   "outputs": [],
   "source": [
    "from enum import Enum\n",
    "from pydantic import BaseModel, Field\n",
    "from fastapi import FastAPI, status\n",
    "from fastapi.encoders import jsonable_encoder\n",
    "from fastapi.responses import JSONResponse\n",
    "import uvicorn"
   ]
  },
  {
   "attachments": {},
   "cell_type": "markdown",
   "metadata": {},
   "source": [
    "## Enums"
   ]
  },
  {
   "cell_type": "code",
   "execution_count": 53,
   "metadata": {},
   "outputs": [],
   "source": [
    "class ExperimentsType(str, Enum):\n",
    "    TABULAR = 'tabular'\n",
    "    IMAGE = 'image'\n",
    "\n",
    "class DatasetType(str, Enum):\n",
    "    CUSTOM = 'custom'\n",
    "    SAMPLE = 'sample'\n",
    "\n",
    "class DatasetName(str, Enum):\n",
    "    CUSTOM = 'custom'\n",
    "    IRIS = 'iris'\n",
    "    SARS_COV = 'sars_cov'\n",
    "\n",
    "class User(BaseModel):\n",
    "    email: str"
   ]
  },
  {
   "attachments": {},
   "cell_type": "markdown",
   "metadata": {},
   "source": [
    "## Domain"
   ]
  },
  {
   "cell_type": "code",
   "execution_count": 54,
   "metadata": {},
   "outputs": [],
   "source": [
    "import datetime\n",
    "from kubernetes import client\n",
    "\n",
    "class Dataset(BaseModel):\n",
    "    name: DatasetName\n",
    "    path: str\n",
    "    volume: str\n",
    "    target: str"
   ]
  },
  {
   "cell_type": "code",
   "execution_count": 55,
   "metadata": {},
   "outputs": [],
   "source": [
    "class CustomDataset(Dataset):\n",
    "    name: DatasetName = Field(const=DatasetName.CUSTOM, default=DatasetName.CUSTOM)\n",
    "    pass"
   ]
  },
  {
   "cell_type": "code",
   "execution_count": 56,
   "metadata": {},
   "outputs": [],
   "source": [
    "class SampleDataset(Dataset):\n",
    "   name: DatasetName\n",
    "   pass \n"
   ]
  },
  {
   "cell_type": "code",
   "execution_count": 57,
   "metadata": {},
   "outputs": [],
   "source": [
    "# class Experiments:\n",
    "#     def __init__(self, name: str, type: ExperimentsType, namespace: str, dataset: Dataset, user: User):\n",
    "#         self.id: str = type.value + '-' + datetime.datetime.now().strftime(\"%Y%m%d%H%M%S\")\n",
    "#         self.name: str = name\n",
    "#         self.type: ExperimentsType = type\n",
    "#         self.namespace: str = namespace\n",
    "#         self.dataset: Dataset = dataset\n",
    "#         self.user: User = user     \n",
    "    \n",
    "class Experiments(BaseModel):\n",
    "    id: str = Field(const=datetime.datetime.now().strftime(\"%Y%m%d%H%M%S\"), default=datetime.datetime.now().strftime(\"%Y%m%d%H%M%S\"))\n",
    "    name: str\n",
    "    type: ExperimentsType\n",
    "    namespace: str\n",
    "    dataset: Dataset\n",
    "    user: User"
   ]
  },
  {
   "cell_type": "code",
   "execution_count": 58,
   "metadata": {},
   "outputs": [],
   "source": [
    "class ExperimentsTabular(Experiments):\n",
    "    type: ExperimentsType = Field(const=ExperimentsType.TABULAR, default=ExperimentsType.TABULAR)\n",
    "    pass\n",
    "\n",
    "class ExperimentsImage(Experiments):\n",
    "    type: ExperimentsType = Field(const=ExperimentsType.IMAGE, default=ExperimentsType.IMAGE)\n",
    "    pass\n",
    "    "
   ]
  },
  {
   "attachments": {},
   "cell_type": "markdown",
   "metadata": {},
   "source": [
    "## Experiments"
   ]
  },
  {
   "cell_type": "code",
   "execution_count": 118,
   "metadata": {},
   "outputs": [],
   "source": [
    "d1 = CustomDataset(path='/dir1/dir2/csv', target='vartarget', volume='vol1')"
   ]
  },
  {
   "cell_type": "code",
   "execution_count": 120,
   "metadata": {},
   "outputs": [],
   "source": [
    "d2 = SampleDataset(name=DatasetName.IRIS, path='/dir1/dir2/csv', target='vartarget', volume='vol2')"
   ]
  },
  {
   "cell_type": "code",
   "execution_count": 121,
   "metadata": {},
   "outputs": [],
   "source": [
    "user = User(email='user1@example.com')"
   ]
  },
  {
   "cell_type": "code",
   "execution_count": 122,
   "metadata": {},
   "outputs": [
    {
     "data": {
      "text/plain": [
       "{'id': '20230331170846',\n",
       " 'name': 'exp-tab-1',\n",
       " 'type': 'tabular',\n",
       " 'namespace': 'bra-dpmp',\n",
       " 'dataset': {'name': 'custom',\n",
       "  'path': '/dir1/dir2/csv',\n",
       "  'volume': 'vol1',\n",
       "  'target': 'vartarget'},\n",
       " 'user': {'email': 'user1@example.com'}}"
      ]
     },
     "execution_count": 122,
     "metadata": {},
     "output_type": "execute_result"
    }
   ],
   "source": [
    "# Exp 1\n",
    "\n",
    "exp1 = ExperimentsTabular(name='exp-tab-1', namespace='bra-dpmp', dataset=d1, user=user)\n",
    "jsonable_encoder(exp1)"
   ]
  },
  {
   "cell_type": "code",
   "execution_count": 123,
   "metadata": {},
   "outputs": [
    {
     "data": {
      "text/plain": [
       "{'id': '20230331170846',\n",
       " 'name': 'exp-tab-2',\n",
       " 'type': 'tabular',\n",
       " 'namespace': 'bra-dpmp',\n",
       " 'dataset': {'name': 'iris',\n",
       "  'path': '/dir1/dir2/csv',\n",
       "  'volume': 'vol2',\n",
       "  'target': 'vartarget'},\n",
       " 'user': {'email': 'user1@example.com'}}"
      ]
     },
     "execution_count": 123,
     "metadata": {},
     "output_type": "execute_result"
    }
   ],
   "source": [
    "# Exp 2\n",
    "\n",
    "exp2 = ExperimentsTabular(name='exp-tab-2', namespace='bra-dpmp', dataset=d2, user=user)\n",
    "jsonable_encoder(exp2)"
   ]
  },
  {
   "attachments": {},
   "cell_type": "markdown",
   "metadata": {},
   "source": [
    "## Interfaces"
   ]
  },
  {
   "cell_type": "code",
   "execution_count": 129,
   "metadata": {},
   "outputs": [
    {
     "name": "stdout",
     "output_type": "stream",
     "text": [
      "Requirement already satisfied: zope.interface in c:\\users\\charles.sr\\anaconda3\\lib\\site-packages (6.0)\n",
      "Collecting zope.component\n",
      "  Downloading zope.component-5.1.0-py2.py3-none-any.whl (69 kB)\n",
      "     -------------------------------------- 69.3/69.3 kB 541.5 kB/s eta 0:00:00\n",
      "Requirement already satisfied: setuptools in c:\\users\\charles.sr\\anaconda3\\lib\\site-packages (from zope.interface) (67.3.1)\n",
      "Collecting zope.hookable>=4.2.0\n",
      "  Downloading zope.hookable-5.4-cp39-cp39-win_amd64.whl (17 kB)\n",
      "Requirement already satisfied: zope.event in c:\\users\\charles.sr\\anaconda3\\lib\\site-packages (from zope.component) (4.6)\n",
      "Installing collected packages: zope.hookable, zope.component\n",
      "Successfully installed zope.component-5.1.0 zope.hookable-5.4\n"
     ]
    }
   ],
   "source": [
    "!pip install zope.interface zope.component"
   ]
  },
  {
   "cell_type": "code",
   "execution_count": 59,
   "metadata": {},
   "outputs": [],
   "source": [
    "from zope import interface, component"
   ]
  },
  {
   "cell_type": "code",
   "execution_count": 60,
   "metadata": {},
   "outputs": [],
   "source": [
    "class IKatibService(interface.Interface):\n",
    "    def create(exp: Experiments):\n",
    "        pass"
   ]
  },
  {
   "cell_type": "code",
   "execution_count": 65,
   "metadata": {},
   "outputs": [],
   "source": [
    "from zope import interface\n",
    "\n",
    "@interface.implementer(IKatibService)\n",
    "class KatibServiceImplementation:\n",
    "    def create(exp: Experiments):\n",
    "        return 'Charles' \n",
    "    \n",
    "# Registry provider\n",
    "component.provideUtility(KatibServiceImplementation())"
   ]
  },
  {
   "cell_type": "code",
   "execution_count": 66,
   "metadata": {},
   "outputs": [],
   "source": [
    "ks = component.getUtility(IKatibService)"
   ]
  },
  {
   "cell_type": "code",
   "execution_count": 67,
   "metadata": {},
   "outputs": [
    {
     "data": {
      "text/plain": [
       "'Charles'"
      ]
     },
     "execution_count": 67,
     "metadata": {},
     "output_type": "execute_result"
    }
   ],
   "source": [
    "ks.create()"
   ]
  },
  {
   "attachments": {},
   "cell_type": "markdown",
   "metadata": {},
   "source": [
    "## Interface ABC"
   ]
  },
  {
   "cell_type": "code",
   "execution_count": 2,
   "metadata": {},
   "outputs": [],
   "source": [
    "from abc import ABC, abstractmethod"
   ]
  },
  {
   "cell_type": "code",
   "execution_count": 47,
   "metadata": {},
   "outputs": [],
   "source": [
    "class IUser(ABC):\n",
    "    @abstractmethod\n",
    "    def findAll(self) -> str:\n",
    "        pass"
   ]
  },
  {
   "cell_type": "code",
   "execution_count": 44,
   "metadata": {},
   "outputs": [],
   "source": [
    "class UserImpl:\n",
    "    def findAll(self) -> str:\n",
    "        return 'Charles'"
   ]
  },
  {
   "cell_type": "code",
   "execution_count": 45,
   "metadata": {},
   "outputs": [
    {
     "data": {
      "text/plain": [
       "__main__.UserImpl"
      ]
     },
     "execution_count": 45,
     "metadata": {},
     "output_type": "execute_result"
    }
   ],
   "source": [
    "IUser.register(UserImpl)"
   ]
  },
  {
   "cell_type": "code",
   "execution_count": 46,
   "metadata": {},
   "outputs": [
    {
     "name": "stdout",
     "output_type": "stream",
     "text": [
      "None\n"
     ]
    }
   ],
   "source": [
    "u = IUser\n",
    "print(u.findAll())\n",
    "\n"
   ]
  }
 ],
 "metadata": {
  "kernelspec": {
   "display_name": "base",
   "language": "python",
   "name": "python3"
  },
  "language_info": {
   "codemirror_mode": {
    "name": "ipython",
    "version": 3
   },
   "file_extension": ".py",
   "mimetype": "text/x-python",
   "name": "python",
   "nbconvert_exporter": "python",
   "pygments_lexer": "ipython3",
   "version": "3.9.13"
  },
  "orig_nbformat": 4
 },
 "nbformat": 4,
 "nbformat_minor": 2
}
